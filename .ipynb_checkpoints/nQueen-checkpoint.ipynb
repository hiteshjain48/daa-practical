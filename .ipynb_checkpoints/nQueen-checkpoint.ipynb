{
 "cells": [
  {
   "cell_type": "code",
   "execution_count": 1,
   "id": "ebdaba6d-7769-45b7-ba03-a5f4da924fcc",
   "metadata": {},
   "outputs": [],
   "source": [
    "def isSafe(arr,x,y,n):\n",
    "    for row in range(x):\n",
    "        if arr[row][y] == 1:\n",
    "            return False\n",
    "    row = x\n",
    "    col = y\n",
    "    while row>=0 and col >=0:\n",
    "        if arr[row][col] == 1:\n",
    "            return False\n",
    "        row = row -1\n",
    "        col = col -1\n",
    "    row = x\n",
    "    col = y\n",
    "    while row>=0 and col <n:\n",
    "        if arr[row][col] == 1:\n",
    "            return False\n",
    "        row = row -1\n",
    "        col = col +1\n",
    "    return True\n",
    "    "
   ]
  },
  {
   "cell_type": "code",
   "execution_count": 2,
   "id": "4d3cd9d5-7a6e-43ce-b382-e19f87de48fd",
   "metadata": {},
   "outputs": [],
   "source": [
    "def nQueen(arr,x,n):\n",
    "    if x>=n:\n",
    "        return True\n",
    "    for col in range(n):\n",
    "        if isSafe(arr,x,col,n):\n",
    "            arr[x][col]=1\n",
    "            if nQueen(arr,x+1,n):\n",
    "                return True\n",
    "            arr[x][col] = 0\n",
    "    return False"
   ]
  },
  {
   "cell_type": "code",
   "execution_count": 3,
   "id": "9ee367c9-642e-4cb0-865a-b296f5eb0b4d",
   "metadata": {},
   "outputs": [],
   "source": [
    "def main():\n",
    "    n = int(input(\"Enter number of Queens : \"))\n",
    "    arr = [[0]*n for i in range(n)]\n",
    "\n",
    "    if nQueen(arr,0,n):\n",
    "        for i in range(n):\n",
    "            for j in range(n):\n",
    "                print(arr[i][j],end=\" \")\n",
    "            print()\n"
   ]
  },
  {
   "cell_type": "code",
   "execution_count": 4,
   "id": "65102d7c-5efe-4f28-ab26-3f3123c2d523",
   "metadata": {},
   "outputs": [
    {
     "name": "stdout",
     "output_type": "stream",
     "text": [
      "Enter number of Queens : 8\n",
      "1 0 0 0 0 0 0 0 \n",
      "0 0 0 0 1 0 0 0 \n",
      "0 0 0 0 0 0 0 1 \n",
      "0 0 0 0 0 1 0 0 \n",
      "0 0 1 0 0 0 0 0 \n",
      "0 0 0 0 0 0 1 0 \n",
      "0 1 0 0 0 0 0 0 \n",
      "0 0 0 1 0 0 0 0 \n"
     ]
    }
   ],
   "source": [
    "if __name__ == '__main__':\n",
    "    main()"
   ]
  },
  {
   "cell_type": "code",
   "execution_count": null,
   "id": "bd7785cb-ffa2-47fa-bd50-91c3efd7698f",
   "metadata": {},
   "outputs": [],
   "source": []
  }
 ],
 "metadata": {
  "kernelspec": {
   "display_name": "Python 3",
   "language": "python",
   "name": "python3"
  },
  "language_info": {
   "codemirror_mode": {
    "name": "ipython",
    "version": 3
   },
   "file_extension": ".py",
   "mimetype": "text/x-python",
   "name": "python",
   "nbconvert_exporter": "python",
   "pygments_lexer": "ipython3",
   "version": "3.8.8"
  }
 },
 "nbformat": 4,
 "nbformat_minor": 5
}
