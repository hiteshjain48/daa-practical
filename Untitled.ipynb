{
 "cells": [
  {
   "cell_type": "code",
   "execution_count": 21,
   "id": "cd0f5f82-3204-494e-8484-fbad2433650f",
   "metadata": {},
   "outputs": [],
   "source": [
    "def fibonacci(n):\n",
    "    a = 0\n",
    "    b = 1\n",
    "    \n",
    "    if n<0:\n",
    "        print(\"incorrect input!\")\n",
    "    if n == 0:\n",
    "        return a\n",
    "    if n == 1:\n",
    "        return b\n",
    "    else:\n",
    "        for i in range(2,n+1):\n",
    "            c = a + b\n",
    "            a = b\n",
    "            b = c\n",
    "        return b"
   ]
  },
  {
   "cell_type": "code",
   "execution_count": 24,
   "id": "95246238-da9e-4412-b0ac-4209a7843efa",
   "metadata": {},
   "outputs": [],
   "source": [
    "def fibo_recursive(n):\n",
    "    if n<=1:\n",
    "        return n\n",
    "    return fibo_recursive(n-1) + fibo_recursive(n-2)"
   ]
  },
  {
   "cell_type": "code",
   "execution_count": 25,
   "id": "a13d29aa-c0cc-4150-a1d9-8cc96a579930",
   "metadata": {},
   "outputs": [
    {
     "data": {
      "text/plain": [
       "2"
      ]
     },
     "execution_count": 25,
     "metadata": {},
     "output_type": "execute_result"
    }
   ],
   "source": [
    "fibo_recursive(3)"
   ]
  },
  {
   "cell_type": "code",
   "execution_count": 1,
   "id": "5e4ab69f-41b8-4948-81d3-26dccf59bd48",
   "metadata": {},
   "outputs": [
    {
     "name": "stdout",
     "output_type": "stream",
     "text": [
      "Encoded data: 0101001001001001010110010010101111100010111100111011110011100000110111101011101110010110010101001100011011101001111110001011110000011111100101011100100010001\n",
      "Decoded data: this is an example for huffman encoding\n"
     ]
    }
   ],
   "source": [
    "import heapq\n",
    "from collections import defaultdict\n",
    "\n",
    "class HuffmanNode:\n",
    "    def __init__(self, symbol, freq):\n",
    "        self.symbol = symbol\n",
    "        self.freq = freq\n",
    "        self.left = None\n",
    "        self.right = None\n",
    "\n",
    "    def __lt__(self, other):\n",
    "        return self.freq < other.freq\n",
    "\n",
    "def build_huffman_tree(freq_dict):\n",
    "    priority_queue = [HuffmanNode(sym, freq) for sym, freq in freq_dict.items()]\n",
    "    heapq.heapify(priority_queue)\n",
    "\n",
    "    while len(priority_queue) > 1:\n",
    "        left_node = heapq.heappop(priority_queue)\n",
    "        right_node = heapq.heappop(priority_queue)\n",
    "        merged_node = HuffmanNode(None, left_node.freq + right_node.freq)\n",
    "        merged_node.left = left_node\n",
    "        merged_node.right = right_node\n",
    "        heapq.heappush(priority_queue, merged_node)\n",
    "\n",
    "    return priority_queue[0]\n",
    "\n",
    "def build_huffman_codes(node, current_code, huffman_codes):\n",
    "    if node is None:\n",
    "        return\n",
    "\n",
    "    if node.symbol is not None:\n",
    "        huffman_codes[node.symbol] = current_code\n",
    "    build_huffman_codes(node.left, current_code + \"0\", huffman_codes)\n",
    "    build_huffman_codes(node.right, current_code + \"1\", huffman_codes)\n",
    "\n",
    "def huffman_encoding(data):\n",
    "    freq_dict = defaultdict(int)\n",
    "    for symbol in data:\n",
    "        freq_dict[symbol] += 1\n",
    "\n",
    "    root = build_huffman_tree(freq_dict)\n",
    "    huffman_codes = {}\n",
    "    build_huffman_codes(root, \"\", huffman_codes)\n",
    "\n",
    "    encoded_data = \"\".join(huffman_codes[symbol] for symbol in data)\n",
    "    return encoded_data, root\n",
    "\n",
    "def huffman_decoding(encoded_data, root):\n",
    "    decoded_data = \"\"\n",
    "    current_node = root\n",
    "\n",
    "    for bit in encoded_data:\n",
    "        if bit == \"0\":\n",
    "            current_node = current_node.left\n",
    "        else:\n",
    "            current_node = current_node.right\n",
    "\n",
    "        if current_node.symbol is not None:\n",
    "            decoded_data += current_node.symbol\n",
    "            current_node = root\n",
    "\n",
    "    return decoded_data\n",
    "\n",
    "if __name__ == \"__main__\":\n",
    "    # Example usage\n",
    "    data = \"this is an example for huffman encoding\"\n",
    "    \n",
    "    encoded_data, huffman_tree = huffman_encoding(data)\n",
    "    print(\"Encoded data:\", encoded_data)\n",
    "\n",
    "    decoded_data = huffman_decoding(encoded_data, huffman_tree)\n",
    "    print(\"Decoded data:\", decoded_data)\n"
   ]
  },
  {
   "cell_type": "code",
   "execution_count": null,
   "id": "11e5e601-3b00-4966-85dc-08f8a030938d",
   "metadata": {},
   "outputs": [],
   "source": []
  }
 ],
 "metadata": {
  "kernelspec": {
   "display_name": "Python 3",
   "language": "python",
   "name": "python3"
  },
  "language_info": {
   "codemirror_mode": {
    "name": "ipython",
    "version": 3
   },
   "file_extension": ".py",
   "mimetype": "text/x-python",
   "name": "python",
   "nbconvert_exporter": "python",
   "pygments_lexer": "ipython3",
   "version": "3.8.8"
  }
 },
 "nbformat": 4,
 "nbformat_minor": 5
}
