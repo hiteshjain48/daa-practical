{
 "cells": [
  {
   "cell_type": "code",
   "execution_count": 21,
   "id": "cd0f5f82-3204-494e-8484-fbad2433650f",
   "metadata": {},
   "outputs": [],
   "source": [
    "def fibonacci(n):\n",
    "    a = 0\n",
    "    b = 1\n",
    "    \n",
    "    if n<0:\n",
    "        print(\"incorrect input!\")\n",
    "    if n == 0:\n",
    "        return a\n",
    "    if n == 1:\n",
    "        return b\n",
    "    else:\n",
    "        for i in range(2,n+1):\n",
    "            c = a + b\n",
    "            a = b\n",
    "            b = c\n",
    "        return b"
   ]
  },
  {
   "cell_type": "code",
   "execution_count": 24,
   "id": "95246238-da9e-4412-b0ac-4209a7843efa",
   "metadata": {},
   "outputs": [],
   "source": [
    "def fibo_recursive(n):\n",
    "    if n<=1:\n",
    "        return n\n",
    "    return fibo_recursive(n-1) + fibo_recursive(n-2)"
   ]
  },
  {
   "cell_type": "code",
   "execution_count": 25,
   "id": "a13d29aa-c0cc-4150-a1d9-8cc96a579930",
   "metadata": {},
   "outputs": [
    {
     "data": {
      "text/plain": [
       "2"
      ]
     },
     "execution_count": 25,
     "metadata": {},
     "output_type": "execute_result"
    }
   ],
   "source": [
    "fibo_recursive(3)"
   ]
  },
  {
   "cell_type": "code",
   "execution_count": null,
   "id": "5e4ab69f-41b8-4948-81d3-26dccf59bd48",
   "metadata": {},
   "outputs": [],
   "source": []
  }
 ],
 "metadata": {
  "kernelspec": {
   "display_name": "Python 3",
   "language": "python",
   "name": "python3"
  },
  "language_info": {
   "codemirror_mode": {
    "name": "ipython",
    "version": 3
   },
   "file_extension": ".py",
   "mimetype": "text/x-python",
   "name": "python",
   "nbconvert_exporter": "python",
   "pygments_lexer": "ipython3",
   "version": "3.8.8"
  }
 },
 "nbformat": 4,
 "nbformat_minor": 5
}
