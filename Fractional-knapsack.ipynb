{
 "cells": [
  {
   "cell_type": "code",
   "execution_count": 11,
   "id": "d54186a6",
   "metadata": {},
   "outputs": [
    {
     "name": "stdout",
     "output_type": "stream",
     "text": [
      "240.0\n"
     ]
    }
   ],
   "source": [
    "# Structure for an item which stores weight and\n",
    "# corresponding value of Item\n",
    "class Item:\n",
    "    def __init__(self, profit, weight):\n",
    "        self.profit = profit\n",
    "        self.weight = weight\n",
    "\n",
    "# Main greedy function to solve problem\n",
    "def fractionalKnapsack(W, arr):\n",
    "\n",
    "# Sorting Item on basis of ratio\n",
    "    arr.sort(key=lambda x: (x.profit/x.weight), reverse=True) \n",
    "\n",
    "# Result(value in Knapsack)\n",
    "    finalvalue = 0.0\n",
    "\n",
    "    # Looping through all Items\n",
    "    for item in arr:\n",
    "\n",
    "# If adding Item won't overflow, \n",
    "# add it completely\n",
    "        if item.weight <= W:\n",
    "            W -= item.weight\n",
    "            finalvalue += item.profit\n",
    "\n",
    "# If we can't add current Item, \n",
    "# add fractional part of it\n",
    "        else:\n",
    "            finalvalue += item.profit * W / item.weight\n",
    "            break\n",
    "\t\n",
    "\t# Returning final value\n",
    "    return finalvalue\n",
    "\n",
    "\n",
    "# Driver Code\n",
    "if __name__ == \"__main__\":\n",
    "    \n",
    "    W = 50\n",
    "    arr = [Item(60, 10), Item(100, 20), Item(120, 30)]\n",
    "\n",
    "    # Function call\n",
    "    max_val = fractionalKnapsack(W, arr)\n",
    "    print(max_val)\n"
   ]
  },
  {
   "cell_type": "code",
   "execution_count": 3,
   "id": "829af2d1",
   "metadata": {},
   "outputs": [],
   "source": [
    "class Item():\n",
    "    def __init__(self,weight, profit):\n",
    "        self.weight = weight\n",
    "        self.profit = profit"
   ]
  },
  {
   "cell_type": "code",
   "execution_count": 12,
   "id": "f725a6b4",
   "metadata": {},
   "outputs": [],
   "source": [
    "def fractionalKnapSack(W, arr):\n",
    "    arr.sort(key = lambda x: (x.profit/x.weight), reverse=True)\n",
    "    finalValue = 0.0\n",
    "    for item in arr:\n",
    "        if item.weight <= W:\n",
    "            W = W-item.weight\n",
    "            finalValue = finalValue + item.profit\n",
    "        else:\n",
    "            finalValue += item.profit * W / item.weight\n",
    "            break\n",
    "    return finalValue"
   ]
  },
  {
   "cell_type": "code",
   "execution_count": 13,
   "id": "c282eadc",
   "metadata": {},
   "outputs": [
    {
     "name": "stdout",
     "output_type": "stream",
     "text": [
      "240.0\n"
     ]
    }
   ],
   "source": [
    "if __name__ == \"__main__\":\n",
    "    \n",
    "    W = 50\n",
    "    arr = [Item(60, 10), Item(100, 20), Item(120, 30)]\n",
    "\n",
    "    # Function call\n",
    "    max_val = fractionalKnapSack(W, arr)\n",
    "    print(max_val)"
   ]
  },
  {
   "cell_type": "code",
   "execution_count": null,
   "id": "d72e20a5",
   "metadata": {},
   "outputs": [],
   "source": []
  }
 ],
 "metadata": {
  "kernelspec": {
   "display_name": "Python 3",
   "language": "python",
   "name": "python3"
  },
  "language_info": {
   "codemirror_mode": {
    "name": "ipython",
    "version": 3
   },
   "file_extension": ".py",
   "mimetype": "text/x-python",
   "name": "python",
   "nbconvert_exporter": "python",
   "pygments_lexer": "ipython3",
   "version": "3.8.8"
  }
 },
 "nbformat": 4,
 "nbformat_minor": 5
}
