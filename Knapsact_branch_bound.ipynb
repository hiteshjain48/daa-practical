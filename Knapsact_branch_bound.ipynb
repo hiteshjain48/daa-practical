{
 "cells": [
  {
   "cell_type": "code",
   "execution_count": 1,
   "id": "760c4cdb",
   "metadata": {},
   "outputs": [],
   "source": [
    "from queue import Queue \n",
    "from typing import List\n",
    "\n",
    "\n",
    "class KnapsackNode: \n",
    "    def __init__(self, items: List[int], value: int, weight: int): \n",
    "        self.items = items \n",
    "        self.value = value \n",
    "        self.weight = weight \n",
    "\n",
    "\n",
    "class Item: \n",
    "    def __init__(self, value: int, weight: int): \n",
    "        self.value = value \n",
    "        self.weight = weight \n",
    "        self.ratio = value / weight \n",
    "\n",
    "\n",
    "class Knapsack: \n",
    "    def __init__(self, maxWeight: int, items: List[Item]): \n",
    "        self.maxWeight = maxWeight \n",
    "        self.items = items \n",
    "\n",
    "    def solve(self) -> int: \n",
    "        self.items.sort(key=lambda x: x.ratio, reverse=True) \n",
    "        bestValue = 0\n",
    "        queue = [KnapsackNode([], 0, 0)] \n",
    "\n",
    "        while queue: \n",
    "            node = queue.pop(0) \n",
    "            i = len(node.items) \n",
    "\n",
    "            if i == len(self.items): \n",
    "                bestValue = max(bestValue, node.value) \n",
    "            else: \n",
    "                item = self.items[i] \n",
    "                withItem = KnapsackNode( \n",
    "                    node.items + [i], \n",
    "                    node.value + item.value, \n",
    "                    node.weight + item.weight \n",
    "                ) \n",
    "                if self.isPromising(withItem, self.maxWeight, bestValue): \n",
    "                    queue.append(withItem) \n",
    "                withoutItem = KnapsackNode( \n",
    "                    node.items, \n",
    "                    node.value, \n",
    "                    node.weight \n",
    "                ) \n",
    "                if self.isPromising(withoutItem, self.maxWeight, bestValue): \n",
    "                    queue.append(withoutItem) \n",
    "\n",
    "        return bestValue \n",
    "\n",
    "    def isPromising(self, node: KnapsackNode, maxWeight: int, bestValue: int) -> bool: \n",
    "        return node.weight <= maxWeight and node.value + self.getBound(node) > bestValue \n",
    "\n",
    "    def getBound(self, node: KnapsackNode) -> float: \n",
    "        remainingWeight = self.maxWeight - node.weight \n",
    "        bound = node.value \n",
    "\n",
    "        for i in range(len(node.items), len(self.items)): \n",
    "            item = self.items[i] \n",
    "\n",
    "            if remainingWeight >= item.weight: \n",
    "                bound += item.value \n",
    "                remainingWeight -= item.weight \n",
    "            else: \n",
    "                bound += remainingWeight * item.ratio \n",
    "                break\n",
    "\n",
    "        return bound \n"
   ]
  },
  {
   "cell_type": "code",
   "execution_count": 3,
   "id": "f70b43ff",
   "metadata": {},
   "outputs": [
    {
     "ename": "KeyboardInterrupt",
     "evalue": "",
     "output_type": "error",
     "traceback": [
      "\u001b[1;31m---------------------------------------------------------------------------\u001b[0m",
      "\u001b[1;31mKeyboardInterrupt\u001b[0m                         Traceback (most recent call last)",
      "\u001b[1;32m<ipython-input-3-33632e087ba1>\u001b[0m in \u001b[0;36m<module>\u001b[1;34m\u001b[0m\n\u001b[0;32m      5\u001b[0m ] \n\u001b[0;32m      6\u001b[0m \u001b[0mknapsack\u001b[0m \u001b[1;33m=\u001b[0m \u001b[0mKnapsack\u001b[0m\u001b[1;33m(\u001b[0m\u001b[1;36m50\u001b[0m\u001b[1;33m,\u001b[0m \u001b[0mitems\u001b[0m\u001b[1;33m)\u001b[0m\u001b[1;33m\u001b[0m\u001b[1;33m\u001b[0m\u001b[0m\n\u001b[1;32m----> 7\u001b[1;33m \u001b[0mbestValue\u001b[0m \u001b[1;33m=\u001b[0m \u001b[0mknapsack\u001b[0m\u001b[1;33m.\u001b[0m\u001b[0msolve\u001b[0m\u001b[1;33m(\u001b[0m\u001b[1;33m)\u001b[0m\u001b[1;33m\u001b[0m\u001b[1;33m\u001b[0m\u001b[0m\n\u001b[0m\u001b[0;32m      8\u001b[0m \u001b[0mprint\u001b[0m\u001b[1;33m(\u001b[0m\u001b[1;34m\"Best value: \"\u001b[0m \u001b[1;33m+\u001b[0m \u001b[0mstr\u001b[0m\u001b[1;33m(\u001b[0m\u001b[0mbestValue\u001b[0m\u001b[1;33m)\u001b[0m\u001b[1;33m)\u001b[0m\u001b[1;33m\u001b[0m\u001b[1;33m\u001b[0m\u001b[0m\n",
      "\u001b[1;32m<ipython-input-1-b6ad6f60223d>\u001b[0m in \u001b[0;36msolve\u001b[1;34m(self)\u001b[0m\n\u001b[0;32m     29\u001b[0m         \u001b[1;32mwhile\u001b[0m \u001b[0mqueue\u001b[0m\u001b[1;33m:\u001b[0m\u001b[1;33m\u001b[0m\u001b[1;33m\u001b[0m\u001b[0m\n\u001b[0;32m     30\u001b[0m             \u001b[0mnode\u001b[0m \u001b[1;33m=\u001b[0m \u001b[0mqueue\u001b[0m\u001b[1;33m.\u001b[0m\u001b[0mpop\u001b[0m\u001b[1;33m(\u001b[0m\u001b[1;36m0\u001b[0m\u001b[1;33m)\u001b[0m\u001b[1;33m\u001b[0m\u001b[1;33m\u001b[0m\u001b[0m\n\u001b[1;32m---> 31\u001b[1;33m             \u001b[0mi\u001b[0m \u001b[1;33m=\u001b[0m \u001b[0mlen\u001b[0m\u001b[1;33m(\u001b[0m\u001b[0mnode\u001b[0m\u001b[1;33m.\u001b[0m\u001b[0mitems\u001b[0m\u001b[1;33m)\u001b[0m\u001b[1;33m\u001b[0m\u001b[1;33m\u001b[0m\u001b[0m\n\u001b[0m\u001b[0;32m     32\u001b[0m \u001b[1;33m\u001b[0m\u001b[0m\n\u001b[0;32m     33\u001b[0m             \u001b[1;32mif\u001b[0m \u001b[0mi\u001b[0m \u001b[1;33m==\u001b[0m \u001b[0mlen\u001b[0m\u001b[1;33m(\u001b[0m\u001b[0mself\u001b[0m\u001b[1;33m.\u001b[0m\u001b[0mitems\u001b[0m\u001b[1;33m)\u001b[0m\u001b[1;33m:\u001b[0m\u001b[1;33m\u001b[0m\u001b[1;33m\u001b[0m\u001b[0m\n",
      "\u001b[1;31mKeyboardInterrupt\u001b[0m: "
     ]
    }
   ],
   "source": [
    "items = [ \n",
    "    Item(60, 10), \n",
    "    Item(100, 20), \n",
    "    Item(120, 30) \n",
    "] \n",
    "knapsack = Knapsack(50, items) \n",
    "bestValue = knapsack.solve() \n",
    "print(\"Best value: \" + str(bestValue))\n"
   ]
  },
  {
   "cell_type": "code",
   "execution_count": null,
   "id": "43718359",
   "metadata": {},
   "outputs": [],
   "source": []
  }
 ],
 "metadata": {
  "kernelspec": {
   "display_name": "Python 3",
   "language": "python",
   "name": "python3"
  },
  "language_info": {
   "codemirror_mode": {
    "name": "ipython",
    "version": 3
   },
   "file_extension": ".py",
   "mimetype": "text/x-python",
   "name": "python",
   "nbconvert_exporter": "python",
   "pygments_lexer": "ipython3",
   "version": "3.8.8"
  }
 },
 "nbformat": 4,
 "nbformat_minor": 5
}
